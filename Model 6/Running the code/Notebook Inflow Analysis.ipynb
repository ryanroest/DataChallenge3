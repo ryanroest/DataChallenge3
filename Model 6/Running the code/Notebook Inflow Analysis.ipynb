{
 "cells": [
  {
   "cell_type": "markdown",
   "metadata": {},
   "source": [
    "# Calculating an Inflow Coefficient"
   ]
  },
  {
   "cell_type": "markdown",
   "metadata": {},
   "source": [
    "Load packages and data."
   ]
  },
  {
   "cell_type": "code",
   "execution_count": 1,
   "metadata": {},
   "outputs": [],
   "source": [
    "import pandas as pd\n",
    "import geopandas as gpd\n",
    "import numpy as np\n",
    "import statsmodels.api as sm\n",
    "\n",
    "import matplotlib.pyplot as plt\n",
    "import seaborn as sns\n",
    "\n",
    "# To import the self made functions you need to fill in the path were you \n",
    "# saved the functions instead of the word 'Code'\n",
    "import sys\n",
    "sys.path.append('C:\\\\Users\\\\20174814\\\\Documents\\\\2019-2020\\\\Data challenge 3\\\\JBG060-Data-Challenge-3-master\\\\code')\n",
    "\n",
    "import Utility.load_files as lf\n",
    "import Utility.flow_level_conversion as flc\n",
    "import Utility.preprocessing\n",
    "import Utility.utility\n",
    "\n",
    "import warnings\n",
    "warnings.filterwarnings('ignore')"
   ]
  },
  {
   "cell_type": "code",
   "execution_count": null,
   "metadata": {},
   "outputs": [],
   "source": [
    "# Fill the right directories for the data for Aa en Maas in here.\n",
    "PATH = 'C:\\\\Users\\\\20174814\\\\Documents\\\\2019-2020\\\\Data challenge 3\\\\' # CHANGE (!)\n",
    "PATH_MEASUREMENTS = PATH + \"sewer_data\\\\data_pump\\\\RG8150\"\n",
    "PATH_RAIN_DATA = PATH + \"sewer_data\\\\rain_timeseries\"\n",
    "PATH_SHAPE_FILES = PATH + \"sewer_model\\\\aa-en-maas_sewer_shp\""
   ]
  },
  {
   "cell_type": "code",
   "execution_count": 2,
   "metadata": {},
   "outputs": [],
   "source": [
    "# LOADING NECESSARY DATA\n",
    "# Measurements\n",
    "flow_data, level_data = lf.get_measurements(PATH_MEASUREMENTS)\n",
    "\n",
    "# Actual rain\n",
    "rain_data = lf.get_rain(PATH_RAIN_DATA)\n",
    "\n",
    "# Shape file data frames\n",
    "data = lf.sdf(PATH_SHAPE_FILES)"
   ]
  },
  {
   "cell_type": "markdown",
   "metadata": {},
   "source": [
    "Calculate flow peaks, level drops and additional measurements."
   ]
  },
  {
   "cell_type": "code",
   "execution_count": 3,
   "metadata": {},
   "outputs": [],
   "source": [
    "# Prepare data internally\n",
    "coeff = flc.generate_coefficient(flow_data, level_data)\n",
    "\n",
    "# We decide to only focus on dry days\n",
    "coeff.to_dry_data(rain_data, data.area_data, min_dry_series=2, village_code=\"DRU\", dry_threshold=2.5)\n",
    "\n",
    "# We add groups that can be analyzed later\n",
    "coeff.add_groups()"
   ]
  },
  {
   "cell_type": "markdown",
   "metadata": {},
   "source": [
    "### Polynomial Regression"
   ]
  },
  {
   "cell_type": "code",
   "execution_count": 151,
   "metadata": {},
   "outputs": [
    {
     "data": {
      "text/html": [
       "<table class=\"simpletable\">\n",
       "<caption>OLS Regression Results</caption>\n",
       "<tr>\n",
       "  <th>Dep. Variable:</th>        <td>AdjDelta</td>     <th>  R-squared (uncentered):</th>      <td>   0.996</td> \n",
       "</tr>\n",
       "<tr>\n",
       "  <th>Model:</th>                   <td>OLS</td>       <th>  Adj. R-squared (uncentered):</th> <td>   0.996</td> \n",
       "</tr>\n",
       "<tr>\n",
       "  <th>Method:</th>             <td>Least Squares</td>  <th>  F-statistic:       </th>          <td>4.113e+05</td>\n",
       "</tr>\n",
       "<tr>\n",
       "  <th>Date:</th>             <td>Tue, 22 Oct 2019</td> <th>  Prob (F-statistic):</th>           <td>  0.00</td>  \n",
       "</tr>\n",
       "<tr>\n",
       "  <th>Time:</th>                 <td>13:34:48</td>     <th>  Log-Likelihood:    </th>          <td>  2945.2</td> \n",
       "</tr>\n",
       "<tr>\n",
       "  <th>No. Observations:</th>      <td>  3444</td>      <th>  AIC:               </th>          <td>  -5886.</td> \n",
       "</tr>\n",
       "<tr>\n",
       "  <th>Df Residuals:</th>          <td>  3442</td>      <th>  BIC:               </th>          <td>  -5874.</td> \n",
       "</tr>\n",
       "<tr>\n",
       "  <th>Df Model:</th>              <td>     2</td>      <th>                     </th>              <td> </td>    \n",
       "</tr>\n",
       "<tr>\n",
       "  <th>Covariance Type:</th>      <td>nonrobust</td>    <th>                     </th>              <td> </td>    \n",
       "</tr>\n",
       "</table>\n",
       "<table class=\"simpletable\">\n",
       "<tr>\n",
       "        <td></td>          <th>coef</th>     <th>std err</th>      <th>t</th>      <th>P>|t|</th>  <th>[0.025</th>    <th>0.975]</th>  \n",
       "</tr>\n",
       "<tr>\n",
       "  <th>Flow</th>         <td>   -0.0291</td> <td>    0.001</td> <td>  -20.758</td> <td> 0.000</td> <td>   -0.032</td> <td>   -0.026</td>\n",
       "</tr>\n",
       "<tr>\n",
       "  <th>Flow squared</th> <td>   -0.0002</td> <td> 3.22e-05</td> <td>   -5.391</td> <td> 0.000</td> <td>   -0.000</td> <td>   -0.000</td>\n",
       "</tr>\n",
       "</table>\n",
       "<table class=\"simpletable\">\n",
       "<tr>\n",
       "  <th>Omnibus:</th>       <td>250.092</td> <th>  Durbin-Watson:     </th> <td>   1.576</td> \n",
       "</tr>\n",
       "<tr>\n",
       "  <th>Prob(Omnibus):</th> <td> 0.000</td>  <th>  Jarque-Bera (JB):  </th> <td>1225.482</td> \n",
       "</tr>\n",
       "<tr>\n",
       "  <th>Skew:</th>          <td>-0.129</td>  <th>  Prob(JB):          </th> <td>7.76e-267</td>\n",
       "</tr>\n",
       "<tr>\n",
       "  <th>Kurtosis:</th>      <td> 5.911</td>  <th>  Cond. No.          </th> <td>1.51e+03</td> \n",
       "</tr>\n",
       "</table><br/><br/>Warnings:<br/>[1] Standard Errors assume that the covariance matrix of the errors is correctly specified.<br/>[2] The condition number is large, 1.51e+03. This might indicate that there are<br/>strong multicollinearity or other numerical problems."
      ],
      "text/plain": [
       "<class 'statsmodels.iolib.summary.Summary'>\n",
       "\"\"\"\n",
       "                                 OLS Regression Results                                \n",
       "=======================================================================================\n",
       "Dep. Variable:               AdjDelta   R-squared (uncentered):                   0.996\n",
       "Model:                            OLS   Adj. R-squared (uncentered):              0.996\n",
       "Method:                 Least Squares   F-statistic:                          4.113e+05\n",
       "Date:                Tue, 22 Oct 2019   Prob (F-statistic):                        0.00\n",
       "Time:                        13:34:48   Log-Likelihood:                          2945.2\n",
       "No. Observations:                3444   AIC:                                     -5886.\n",
       "Df Residuals:                    3442   BIC:                                     -5874.\n",
       "Df Model:                           2                                                  \n",
       "Covariance Type:            nonrobust                                                  \n",
       "================================================================================\n",
       "                   coef    std err          t      P>|t|      [0.025      0.975]\n",
       "--------------------------------------------------------------------------------\n",
       "Flow            -0.0291      0.001    -20.758      0.000      -0.032      -0.026\n",
       "Flow squared    -0.0002   3.22e-05     -5.391      0.000      -0.000      -0.000\n",
       "==============================================================================\n",
       "Omnibus:                      250.092   Durbin-Watson:                   1.576\n",
       "Prob(Omnibus):                  0.000   Jarque-Bera (JB):             1225.482\n",
       "Skew:                          -0.129   Prob(JB):                    7.76e-267\n",
       "Kurtosis:                       5.911   Cond. No.                     1.51e+03\n",
       "==============================================================================\n",
       "\n",
       "Warnings:\n",
       "[1] Standard Errors assume that the covariance matrix of the errors is correctly specified.\n",
       "[2] The condition number is large, 1.51e+03. This might indicate that there are\n",
       "strong multicollinearity or other numerical problems.\n",
       "\"\"\""
      ]
     },
     "execution_count": 151,
     "metadata": {},
     "output_type": "execute_result"
    }
   ],
   "source": [
    "# We try to isolate only regular peak patterns and delete outliers\n",
    "x = coeff.flow_groups.loc[(coeff.flow_groups[\"Flow\"].between(30,100)) &\n",
    "                          (coeff.flow_groups[\"AdjDelta\"].between(-4,-1)) &\n",
    "                          (coeff.flow_groups[\"TimeSpan\"].between(100, 1000)) &\n",
    "                          (coeff.flow_groups[\"max_level\"].between(-0.25, -0.175))].iloc[2:]\n",
    "\n",
    "# Select data for OLS\n",
    "y = x[\"AdjDelta\"]\n",
    "X = pd.concat([x[\"Flow\"], x[\"Flow\"]**2], axis=1)\n",
    "X.columns = [\"Flow\", \"Flow squared\"]\n",
    "\n",
    "# Fit OLS\n",
    "results = sm.OLS(y, X).fit()\n",
    "results.summary()"
   ]
  },
  {
   "cell_type": "markdown",
   "metadata": {},
   "source": [
    "### Plot Results"
   ]
  },
  {
   "cell_type": "code",
   "execution_count": 149,
   "metadata": {},
   "outputs": [
    {
     "data": {
      "text/plain": [
       "Text(0.5, 0, 'Flow')"
      ]
     },
     "execution_count": 149,
     "metadata": {},
     "output_type": "execute_result"
    },
    {
     "data": {
      "image/png": "[encoded data removed]",
      "text/plain": [
       "<Figure size 432x288 with 1 Axes>"
      ]
     },
     "metadata": {
      "needs_background": "light"
     },
     "output_type": "display_data"
    }
   ],
   "source": [
    "# Visualize results\n",
    "fig, ax = plt.subplots()\n",
    "\n",
    "plt.xlim(0,100)\n",
    "plt.ylim(0,4)\n",
    "\n",
    "ax.spines['right'].set_visible(False)\n",
    "ax.spines['top'].set_visible(False)\n",
    "\n",
    "ax.spines[\"left\"].set_linewidth(2)\n",
    "ax.spines[\"bottom\"].set_linewidth(3)\n",
    "\n",
    "sim_X = pd.DataFrame({\"Flow\": np.linspace(0,100,10000)})\n",
    "sim_X[\"Flow squared\"] = sim_X[\"Flow\"]**2\n",
    "\n",
    "into = sim_X[\"Flow\"].sort_values()\n",
    "out = results.predict(sim_X.sort_values(\"Flow\")).values\n",
    "\n",
    "plt.scatter(x[\"Flow\"], abs(x[\"AdjDelta\"]), color= \"gainsboro\")\n",
    "ax.plot(into, abs(out), color=\"black\", linewidth=2)\n",
    "\n",
    "plt.ylabel(\"Adjusted Change in Level\", size=13)\n",
    "plt.xlabel(\"Flow\", size=13)"
   ]
  }
 ],
 "metadata": {
  "kernelspec": {
   "display_name": "Python 3",
   "language": "python",
   "name": "python3"
  },
  "language_info": {
   "codemirror_mode": {
    "name": "ipython",
    "version": 3
   },
   "file_extension": ".py",
   "mimetype": "text/x-python",
   "name": "python",
   "nbconvert_exporter": "python",
   "pygments_lexer": "ipython3",
   "version": "3.7.3"
  }
 },
 "nbformat": 4,
 "nbformat_minor": 2
}
